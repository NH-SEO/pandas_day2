{
 "cells": [
  {
   "cell_type": "code",
   "execution_count": 1,
   "id": "ee100347",
   "metadata": {},
   "outputs": [],
   "source": [
    "import warnings\n",
    "warnings.filterwarnings('ignore')\n",
    "\n",
    "import pandas as pd\n",
    "import numpy as np"
   ]
  },
  {
   "cell_type": "markdown",
   "id": "4638bfa5",
   "metadata": {},
   "source": [
    "# test3"
   ]
  },
  {
   "cell_type": "code",
   "execution_count": 3,
   "id": "ba2224ec",
   "metadata": {},
   "outputs": [],
   "source": [
    "df = pd.read_csv('dataset/tweets2.csv')"
   ]
  },
  {
   "cell_type": "code",
   "execution_count": 5,
   "id": "85064fda",
   "metadata": {},
   "outputs": [],
   "source": [
    "df = df.set_index('No')"
   ]
  },
  {
   "cell_type": "code",
   "execution_count": 7,
   "id": "33fd94af",
   "metadata": {},
   "outputs": [
    {
     "data": {
      "text/html": [
       "<div>\n",
       "<style scoped>\n",
       "    .dataframe tbody tr th:only-of-type {\n",
       "        vertical-align: middle;\n",
       "    }\n",
       "\n",
       "    .dataframe tbody tr th {\n",
       "        vertical-align: top;\n",
       "    }\n",
       "\n",
       "    .dataframe thead th {\n",
       "        text-align: right;\n",
       "    }\n",
       "</style>\n",
       "<table border=\"1\" class=\"dataframe\">\n",
       "  <thead>\n",
       "    <tr style=\"text-align: right;\">\n",
       "      <th></th>\n",
       "      <th>atConference</th>\n",
       "      <th>day</th>\n",
       "      <th>impressions</th>\n",
       "      <th>retweets</th>\n",
       "      <th>likes</th>\n",
       "      <th>userprofileclicks</th>\n",
       "      <th>urlClicks</th>\n",
       "      <th>hashtagClicks</th>\n",
       "      <th>detailExpands</th>\n",
       "      <th>follows</th>\n",
       "      <th>mediaViews</th>\n",
       "      <th>mediaEngagements</th>\n",
       "    </tr>\n",
       "    <tr>\n",
       "      <th>No</th>\n",
       "      <th></th>\n",
       "      <th></th>\n",
       "      <th></th>\n",
       "      <th></th>\n",
       "      <th></th>\n",
       "      <th></th>\n",
       "      <th></th>\n",
       "      <th></th>\n",
       "      <th></th>\n",
       "      <th></th>\n",
       "      <th></th>\n",
       "      <th></th>\n",
       "    </tr>\n",
       "  </thead>\n",
       "  <tbody>\n",
       "    <tr>\n",
       "      <td>1</td>\n",
       "      <td>False</td>\n",
       "      <td>2017-10-26</td>\n",
       "      <td>40</td>\n",
       "      <td>0</td>\n",
       "      <td>1</td>\n",
       "      <td>0</td>\n",
       "      <td>0</td>\n",
       "      <td>0</td>\n",
       "      <td>2</td>\n",
       "      <td>0</td>\n",
       "      <td>0</td>\n",
       "      <td>0</td>\n",
       "    </tr>\n",
       "  </tbody>\n",
       "</table>\n",
       "</div>"
      ],
      "text/plain": [
       "    atConference         day  impressions  retweets  likes  userprofileclicks  \\\n",
       "No                                                                              \n",
       "1          False  2017-10-26           40         0      1                  0   \n",
       "\n",
       "    urlClicks  hashtagClicks  detailExpands  follows  mediaViews  \\\n",
       "No                                                                 \n",
       "1           0              0              2        0           0   \n",
       "\n",
       "    mediaEngagements  \n",
       "No                    \n",
       "1                  0  "
      ]
     },
     "execution_count": 7,
     "metadata": {},
     "output_type": "execute_result"
    }
   ],
   "source": [
    "df.head(1)"
   ]
  },
  {
   "cell_type": "code",
   "execution_count": 11,
   "id": "0f428361",
   "metadata": {},
   "outputs": [],
   "source": [
    "df['totalSum'] = df.iloc[:, 3:].apply(lambda x: x.sum(), axis=1)"
   ]
  },
  {
   "cell_type": "markdown",
   "id": "c5f3b728",
   "metadata": {},
   "source": [
    "# Q1\n",
    "# 위의 전처리한 데이터를 이용하여 리-트윗 횟수(retweets)가 0이 아닌 트윗을 대상으로\n",
    "# 실시간 중계 여부(atConference)에 따른 좋아요(‘likes’) 클릭 수에 평균을 출력하세요."
   ]
  },
  {
   "cell_type": "code",
   "execution_count": 14,
   "id": "9a56f771",
   "metadata": {},
   "outputs": [
    {
     "data": {
      "text/plain": [
       "atConference\n",
       "False    15.862069\n",
       "True      2.269231\n",
       "Name: likes, dtype: float64"
      ]
     },
     "execution_count": 14,
     "metadata": {},
     "output_type": "execute_result"
    }
   ],
   "source": [
    "df[df['retweets'] != 0].groupby('atConference')['likes'].mean()"
   ]
  },
  {
   "cell_type": "markdown",
   "id": "84f299cc",
   "metadata": {},
   "source": [
    "# test4"
   ]
  },
  {
   "cell_type": "code",
   "execution_count": 16,
   "id": "03edcfb9",
   "metadata": {},
   "outputs": [
    {
     "data": {
      "text/html": [
       "<div>\n",
       "<style scoped>\n",
       "    .dataframe tbody tr th:only-of-type {\n",
       "        vertical-align: middle;\n",
       "    }\n",
       "\n",
       "    .dataframe tbody tr th {\n",
       "        vertical-align: top;\n",
       "    }\n",
       "\n",
       "    .dataframe thead th {\n",
       "        text-align: right;\n",
       "    }\n",
       "</style>\n",
       "<table border=\"1\" class=\"dataframe\">\n",
       "  <thead>\n",
       "    <tr style=\"text-align: right;\">\n",
       "      <th></th>\n",
       "      <th>NO</th>\n",
       "      <th>Agency</th>\n",
       "      <th>AgencyType</th>\n",
       "      <th>DistributionChannel</th>\n",
       "      <th>ProductName</th>\n",
       "      <th>Claim</th>\n",
       "      <th>Duration</th>\n",
       "      <th>Destination</th>\n",
       "      <th>NetSales</th>\n",
       "      <th>Commision</th>\n",
       "      <th>Gender</th>\n",
       "      <th>Age</th>\n",
       "    </tr>\n",
       "  </thead>\n",
       "  <tbody>\n",
       "    <tr>\n",
       "      <td>0</td>\n",
       "      <td>1</td>\n",
       "      <td>CBH</td>\n",
       "      <td>Travel Agency</td>\n",
       "      <td>Offline</td>\n",
       "      <td>Comprehensive Plan</td>\n",
       "      <td>No</td>\n",
       "      <td>186</td>\n",
       "      <td>MALAYSIA</td>\n",
       "      <td>-29.0</td>\n",
       "      <td>9.57</td>\n",
       "      <td>F</td>\n",
       "      <td>81</td>\n",
       "    </tr>\n",
       "  </tbody>\n",
       "</table>\n",
       "</div>"
      ],
      "text/plain": [
       "   NO Agency     AgencyType DistributionChannel         ProductName Claim  \\\n",
       "0   1    CBH  Travel Agency             Offline  Comprehensive Plan    No   \n",
       "\n",
       "   Duration Destination  NetSales  Commision Gender  Age  \n",
       "0       186    MALAYSIA     -29.0       9.57      F   81  "
      ]
     },
     "execution_count": 16,
     "metadata": {},
     "output_type": "execute_result"
    }
   ],
   "source": [
    "df = pd.read_csv('dataset/travel_insurance2.csv')\n",
    "df.head(1)"
   ]
  },
  {
   "cell_type": "code",
   "execution_count": 17,
   "id": "50552026",
   "metadata": {
    "scrolled": true
   },
   "outputs": [
    {
     "data": {
      "text/plain": [
       "(63326, 12)"
      ]
     },
     "execution_count": 17,
     "metadata": {},
     "output_type": "execute_result"
    }
   ],
   "source": [
    "df = df.replace({'Null': np.nan, 'N/A': np.nan, '': np.nan})\n",
    "df.shape"
   ]
  },
  {
   "cell_type": "markdown",
   "id": "ff92b3db",
   "metadata": {},
   "source": [
    "## 1-1"
   ]
  },
  {
   "cell_type": "code",
   "execution_count": 19,
   "id": "06197f44",
   "metadata": {},
   "outputs": [],
   "source": [
    "df = df.drop(columns=['ProductName', 'NetSales'])"
   ]
  },
  {
   "cell_type": "markdown",
   "id": "382b8442",
   "metadata": {},
   "source": [
    "## 1-2"
   ]
  },
  {
   "cell_type": "code",
   "execution_count": 20,
   "id": "610bcd59",
   "metadata": {},
   "outputs": [
    {
     "data": {
      "text/plain": [
       "45107"
      ]
     },
     "execution_count": 20,
     "metadata": {},
     "output_type": "execute_result"
    }
   ],
   "source": [
    "df['Gender'].isna().sum()"
   ]
  },
  {
   "cell_type": "code",
   "execution_count": 21,
   "id": "053283e0",
   "metadata": {},
   "outputs": [],
   "source": [
    "df.loc[(df['Gender'].isna()) & (df['NO'] % 2 == 0), 'Gender'] = 'M'\n",
    "df.loc[(df['Gender'].isna()) & (df['NO'] % 2 != 0), 'Gender'] = 'F'"
   ]
  },
  {
   "cell_type": "code",
   "execution_count": 22,
   "id": "5ddcd67a",
   "metadata": {
    "scrolled": true
   },
   "outputs": [
    {
     "data": {
      "text/plain": [
       "0"
      ]
     },
     "execution_count": 22,
     "metadata": {},
     "output_type": "execute_result"
    }
   ],
   "source": [
    "df['Gender'].isna().sum()"
   ]
  },
  {
   "cell_type": "code",
   "execution_count": 23,
   "id": "f7955a34",
   "metadata": {},
   "outputs": [],
   "source": [
    "basetable1 = df.copy()"
   ]
  },
  {
   "cell_type": "markdown",
   "id": "79d24d71",
   "metadata": {},
   "source": [
    "## Q1."
   ]
  },
  {
   "cell_type": "code",
   "execution_count": 26,
   "id": "4d1de44c",
   "metadata": {
    "scrolled": true
   },
   "outputs": [
    {
     "data": {
      "text/plain": [
       "SINGAPORE    1352\n",
       "MALAYSIA      439\n",
       "THAILAND      434\n",
       "INDONESIA     362\n",
       "AUSTRALIA     323\n",
       "             ... \n",
       "BAHRAIN         1\n",
       "KENYA           1\n",
       "ECUADOR         1\n",
       "HUNGARY         1\n",
       "COLOMBIA        1\n",
       "Name: Destination, Length: 72, dtype: int64"
      ]
     },
     "execution_count": 26,
     "metadata": {},
     "output_type": "execute_result"
    }
   ],
   "source": [
    "basetable1[(basetable1['Age'] >= 40) &\\\n",
    "           (basetable1['Age'] < 50) &\\\n",
    "           (basetable1['Gender'] == 'F')]['Destination'].value_counts()"
   ]
  },
  {
   "cell_type": "code",
   "execution_count": 27,
   "id": "247287a8",
   "metadata": {},
   "outputs": [
    {
     "data": {
      "text/plain": [
       "'MALAYSIA'"
      ]
     },
     "execution_count": 27,
     "metadata": {},
     "output_type": "execute_result"
    }
   ],
   "source": [
    "'MALAYSIA'"
   ]
  },
  {
   "cell_type": "markdown",
   "id": "78d419ed",
   "metadata": {},
   "source": [
    "# test5"
   ]
  },
  {
   "cell_type": "code",
   "execution_count": 28,
   "id": "a607fc7a",
   "metadata": {},
   "outputs": [
    {
     "data": {
      "text/html": [
       "<div>\n",
       "<style scoped>\n",
       "    .dataframe tbody tr th:only-of-type {\n",
       "        vertical-align: middle;\n",
       "    }\n",
       "\n",
       "    .dataframe tbody tr th {\n",
       "        vertical-align: top;\n",
       "    }\n",
       "\n",
       "    .dataframe thead th {\n",
       "        text-align: right;\n",
       "    }\n",
       "</style>\n",
       "<table border=\"1\" class=\"dataframe\">\n",
       "  <thead>\n",
       "    <tr style=\"text-align: right;\">\n",
       "      <th></th>\n",
       "      <th>ID</th>\n",
       "      <th>join_date</th>\n",
       "      <th>sex</th>\n",
       "      <th>birth_year</th>\n",
       "      <th>branch_code</th>\n",
       "      <th>P1</th>\n",
       "      <th>P2</th>\n",
       "      <th>P3</th>\n",
       "      <th>P4</th>\n",
       "      <th>P5</th>\n",
       "      <th>...</th>\n",
       "      <th>P12</th>\n",
       "      <th>P13</th>\n",
       "      <th>P14</th>\n",
       "      <th>P15</th>\n",
       "      <th>P16</th>\n",
       "      <th>P17</th>\n",
       "      <th>P18</th>\n",
       "      <th>P19</th>\n",
       "      <th>P20</th>\n",
       "      <th>P21</th>\n",
       "    </tr>\n",
       "  </thead>\n",
       "  <tbody>\n",
       "    <tr>\n",
       "      <td>0</td>\n",
       "      <td>4WKQSBB</td>\n",
       "      <td>1/2/2019</td>\n",
       "      <td>F</td>\n",
       "      <td>1987</td>\n",
       "      <td>1X1H</td>\n",
       "      <td>0</td>\n",
       "      <td>0</td>\n",
       "      <td>0</td>\n",
       "      <td>0</td>\n",
       "      <td>0</td>\n",
       "      <td>...</td>\n",
       "      <td>0</td>\n",
       "      <td>0</td>\n",
       "      <td>0</td>\n",
       "      <td>1</td>\n",
       "      <td>0</td>\n",
       "      <td>0</td>\n",
       "      <td>0</td>\n",
       "      <td>0</td>\n",
       "      <td>0</td>\n",
       "      <td>0</td>\n",
       "    </tr>\n",
       "    <tr>\n",
       "      <td>1</td>\n",
       "      <td>CP5S02H</td>\n",
       "      <td>1/6/2019</td>\n",
       "      <td>F</td>\n",
       "      <td>1981</td>\n",
       "      <td>UAOD</td>\n",
       "      <td>0</td>\n",
       "      <td>0</td>\n",
       "      <td>0</td>\n",
       "      <td>0</td>\n",
       "      <td>0</td>\n",
       "      <td>...</td>\n",
       "      <td>0</td>\n",
       "      <td>0</td>\n",
       "      <td>0</td>\n",
       "      <td>1</td>\n",
       "      <td>0</td>\n",
       "      <td>0</td>\n",
       "      <td>0</td>\n",
       "      <td>0</td>\n",
       "      <td>0</td>\n",
       "      <td>0</td>\n",
       "    </tr>\n",
       "  </tbody>\n",
       "</table>\n",
       "<p>2 rows × 26 columns</p>\n",
       "</div>"
      ],
      "text/plain": [
       "        ID join_date sex  birth_year branch_code  P1  P2  P3  P4  P5  ...  \\\n",
       "0  4WKQSBB  1/2/2019   F        1987        1X1H   0   0   0   0   0  ...   \n",
       "1  CP5S02H  1/6/2019   F        1981        UAOD   0   0   0   0   0  ...   \n",
       "\n",
       "   P12  P13  P14  P15  P16  P17  P18  P19  P20  P21  \n",
       "0    0    0    0    1    0    0    0    0    0    0  \n",
       "1    0    0    0    1    0    0    0    0    0    0  \n",
       "\n",
       "[2 rows x 26 columns]"
      ]
     },
     "execution_count": 28,
     "metadata": {},
     "output_type": "execute_result"
    }
   ],
   "source": [
    "df = pd.read_csv('dataset/Train_data.csv')\n",
    "df.head(2)"
   ]
  },
  {
   "cell_type": "markdown",
   "id": "3d28ae28",
   "metadata": {},
   "source": [
    "## 1-1"
   ]
  },
  {
   "cell_type": "code",
   "execution_count": 30,
   "id": "0a195e78",
   "metadata": {},
   "outputs": [],
   "source": [
    "df = df.dropna(subset=['join_date'])"
   ]
  },
  {
   "cell_type": "code",
   "execution_count": 31,
   "id": "89680433",
   "metadata": {},
   "outputs": [
    {
     "data": {
      "text/plain": [
       "0"
      ]
     },
     "execution_count": 31,
     "metadata": {},
     "output_type": "execute_result"
    }
   ],
   "source": [
    "df['join_date'].isna().sum()"
   ]
  },
  {
   "cell_type": "code",
   "execution_count": 38,
   "id": "e4e07076",
   "metadata": {},
   "outputs": [],
   "source": [
    "df['reg_age'] = df['join_date'].str[-4:].astype(int) - df['birth_year'] + 1"
   ]
  },
  {
   "cell_type": "code",
   "execution_count": 42,
   "id": "037155be",
   "metadata": {},
   "outputs": [],
   "source": [
    "df['reg_age'] = pd.to_datetime(df['join_date'], format='%d/%m/%Y').dt.year\\\n",
    "                - df['birth_year'] + 1"
   ]
  },
  {
   "cell_type": "markdown",
   "id": "b517e112",
   "metadata": {},
   "source": [
    "## 1-2"
   ]
  },
  {
   "cell_type": "code",
   "execution_count": 48,
   "id": "00e6a8bf",
   "metadata": {},
   "outputs": [],
   "source": [
    "p_col = ['P1', 'P2', 'P3',\n",
    "         'P4', 'P5', 'P6', 'P7', 'P8', 'P9', 'P10', 'P11', 'P12', 'P13', 'P14',\n",
    "         'P15', 'P16', 'P17', 'P18', 'P19', 'P20', 'P21']"
   ]
  },
  {
   "cell_type": "code",
   "execution_count": 54,
   "id": "0ec890c6",
   "metadata": {},
   "outputs": [],
   "source": [
    "df['total'] = df[p_col].apply(lambda x: x.sum(), axis=1)"
   ]
  },
  {
   "cell_type": "code",
   "execution_count": 57,
   "id": "885803e3",
   "metadata": {},
   "outputs": [],
   "source": [
    "df['VIP'] = np.where(df['total'] >= 4, 'VIP', 'Not VIP')"
   ]
  },
  {
   "cell_type": "code",
   "execution_count": 58,
   "id": "f1546cd6",
   "metadata": {},
   "outputs": [
    {
     "data": {
      "text/plain": [
       "Not VIP    27900\n",
       "VIP         1230\n",
       "Name: VIP, dtype: int64"
      ]
     },
     "execution_count": 58,
     "metadata": {},
     "output_type": "execute_result"
    }
   ],
   "source": [
    "df['VIP'].value_counts()"
   ]
  },
  {
   "cell_type": "code",
   "execution_count": 60,
   "id": "02e55489",
   "metadata": {},
   "outputs": [
    {
     "data": {
      "text/plain": [
       "(29130, 29)"
      ]
     },
     "execution_count": 60,
     "metadata": {},
     "output_type": "execute_result"
    }
   ],
   "source": [
    "df.shape"
   ]
  },
  {
   "cell_type": "code",
   "execution_count": 61,
   "id": "bc4e212e",
   "metadata": {},
   "outputs": [],
   "source": [
    "basetable1 = df.copy()"
   ]
  },
  {
   "cell_type": "markdown",
   "id": "65d16329",
   "metadata": {},
   "source": [
    "# Q1."
   ]
  },
  {
   "cell_type": "code",
   "execution_count": 63,
   "id": "60164537",
   "metadata": {},
   "outputs": [
    {
     "data": {
      "text/plain": [
       "'49BM'"
      ]
     },
     "execution_count": 63,
     "metadata": {},
     "output_type": "execute_result"
    }
   ],
   "source": [
    "basetable1.groupby('branch_code')['reg_age'].mean().idxmax()"
   ]
  },
  {
   "cell_type": "code",
   "execution_count": 66,
   "id": "15c8598e",
   "metadata": {},
   "outputs": [
    {
     "data": {
      "text/plain": [
       "'EU3L'"
      ]
     },
     "execution_count": 66,
     "metadata": {},
     "output_type": "execute_result"
    }
   ],
   "source": [
    "basetable1.groupby('branch_code')['reg_age'].mean()\\\n",
    "    .sort_values(ascending=False).index[2]"
   ]
  },
  {
   "cell_type": "markdown",
   "id": "f0c16cf8",
   "metadata": {},
   "source": [
    "# Q2."
   ]
  },
  {
   "cell_type": "code",
   "execution_count": 80,
   "id": "c44ced3e",
   "metadata": {
    "scrolled": true
   },
   "outputs": [
    {
     "data": {
      "text/plain": [
       "(1983, 'M')"
      ]
     },
     "execution_count": 80,
     "metadata": {},
     "output_type": "execute_result"
    }
   ],
   "source": [
    "basetable1.groupby(['birth_year', 'sex'])['total'].sum().idxmax()"
   ]
  },
  {
   "cell_type": "markdown",
   "id": "a695a026",
   "metadata": {},
   "source": [
    "# Q3."
   ]
  },
  {
   "cell_type": "code",
   "execution_count": 81,
   "id": "d3738c9a",
   "metadata": {},
   "outputs": [
    {
     "data": {
      "text/plain": [
       "0.01"
      ]
     },
     "execution_count": 81,
     "metadata": {},
     "output_type": "execute_result"
    }
   ],
   "source": [
    "basetable1[basetable1['birth_year'] <= 1990][['P1', 'P12']].corr().loc['P1', 'P12'].round(2)"
   ]
  },
  {
   "cell_type": "code",
   "execution_count": 82,
   "id": "491a118e",
   "metadata": {},
   "outputs": [
    {
     "data": {
      "text/plain": [
       "0.01"
      ]
     },
     "execution_count": 82,
     "metadata": {},
     "output_type": "execute_result"
    }
   ],
   "source": [
    "round(0.010875, 2)"
   ]
  },
  {
   "cell_type": "markdown",
   "id": "449fbc78",
   "metadata": {},
   "source": [
    "# Q4."
   ]
  },
  {
   "cell_type": "code",
   "execution_count": 84,
   "id": "b47b8129",
   "metadata": {},
   "outputs": [
    {
     "data": {
      "text/html": [
       "<div>\n",
       "<style scoped>\n",
       "    .dataframe tbody tr th:only-of-type {\n",
       "        vertical-align: middle;\n",
       "    }\n",
       "\n",
       "    .dataframe tbody tr th {\n",
       "        vertical-align: top;\n",
       "    }\n",
       "\n",
       "    .dataframe thead th {\n",
       "        text-align: right;\n",
       "    }\n",
       "</style>\n",
       "<table border=\"1\" class=\"dataframe\">\n",
       "  <thead>\n",
       "    <tr style=\"text-align: right;\">\n",
       "      <th></th>\n",
       "      <th>ID</th>\n",
       "      <th>join_date</th>\n",
       "      <th>sex</th>\n",
       "      <th>birth_year</th>\n",
       "      <th>branch_code</th>\n",
       "      <th>P1</th>\n",
       "      <th>P2</th>\n",
       "      <th>P3</th>\n",
       "      <th>P4</th>\n",
       "      <th>P5</th>\n",
       "      <th>...</th>\n",
       "      <th>P15</th>\n",
       "      <th>P16</th>\n",
       "      <th>P17</th>\n",
       "      <th>P18</th>\n",
       "      <th>P19</th>\n",
       "      <th>P20</th>\n",
       "      <th>P21</th>\n",
       "      <th>reg_age</th>\n",
       "      <th>total</th>\n",
       "      <th>VIP</th>\n",
       "    </tr>\n",
       "  </thead>\n",
       "  <tbody>\n",
       "    <tr>\n",
       "      <td>7</td>\n",
       "      <td>6ZOZFNF</td>\n",
       "      <td>1/5/2017</td>\n",
       "      <td>F</td>\n",
       "      <td>1977</td>\n",
       "      <td>E5SW</td>\n",
       "      <td>0</td>\n",
       "      <td>0</td>\n",
       "      <td>0</td>\n",
       "      <td>0</td>\n",
       "      <td>0</td>\n",
       "      <td>...</td>\n",
       "      <td>0</td>\n",
       "      <td>1</td>\n",
       "      <td>0</td>\n",
       "      <td>0</td>\n",
       "      <td>0</td>\n",
       "      <td>0</td>\n",
       "      <td>0</td>\n",
       "      <td>41</td>\n",
       "      <td>2</td>\n",
       "      <td>Not VIP</td>\n",
       "    </tr>\n",
       "    <tr>\n",
       "      <td>28</td>\n",
       "      <td>1OBRGMX</td>\n",
       "      <td>1/1/2020</td>\n",
       "      <td>F</td>\n",
       "      <td>1966</td>\n",
       "      <td>30H5</td>\n",
       "      <td>0</td>\n",
       "      <td>0</td>\n",
       "      <td>0</td>\n",
       "      <td>0</td>\n",
       "      <td>0</td>\n",
       "      <td>...</td>\n",
       "      <td>0</td>\n",
       "      <td>1</td>\n",
       "      <td>0</td>\n",
       "      <td>0</td>\n",
       "      <td>0</td>\n",
       "      <td>0</td>\n",
       "      <td>0</td>\n",
       "      <td>55</td>\n",
       "      <td>2</td>\n",
       "      <td>Not VIP</td>\n",
       "    </tr>\n",
       "  </tbody>\n",
       "</table>\n",
       "<p>2 rows × 29 columns</p>\n",
       "</div>"
      ],
      "text/plain": [
       "         ID join_date sex  birth_year branch_code  P1  P2  P3  P4  P5  ...  \\\n",
       "7   6ZOZFNF  1/5/2017   F        1977        E5SW   0   0   0   0   0  ...   \n",
       "28  1OBRGMX  1/1/2020   F        1966        30H5   0   0   0   0   0  ...   \n",
       "\n",
       "    P15  P16  P17  P18  P19  P20  P21  reg_age  total      VIP  \n",
       "7     0    1    0    0    0    0    0       41      2  Not VIP  \n",
       "28    0    1    0    0    0    0    0       55      2  Not VIP  \n",
       "\n",
       "[2 rows x 29 columns]"
      ]
     },
     "execution_count": 84,
     "metadata": {},
     "output_type": "execute_result"
    }
   ],
   "source": [
    "tmp = basetable1[(basetable1['birth_year'] <= 1980) & \\\n",
    "                 (basetable1['sex'] == 'F')]\n",
    "tmp.head(2)"
   ]
  },
  {
   "cell_type": "code",
   "execution_count": 86,
   "id": "4660d263",
   "metadata": {},
   "outputs": [
    {
     "data": {
      "text/html": [
       "<div>\n",
       "<style scoped>\n",
       "    .dataframe tbody tr th:only-of-type {\n",
       "        vertical-align: middle;\n",
       "    }\n",
       "\n",
       "    .dataframe tbody tr th {\n",
       "        vertical-align: top;\n",
       "    }\n",
       "\n",
       "    .dataframe thead th {\n",
       "        text-align: right;\n",
       "    }\n",
       "</style>\n",
       "<table border=\"1\" class=\"dataframe\">\n",
       "  <thead>\n",
       "    <tr style=\"text-align: right;\">\n",
       "      <th>VIP</th>\n",
       "      <th>Not VIP</th>\n",
       "      <th>VIP</th>\n",
       "    </tr>\n",
       "    <tr>\n",
       "      <th>branch_code</th>\n",
       "      <th></th>\n",
       "      <th></th>\n",
       "    </tr>\n",
       "  </thead>\n",
       "  <tbody>\n",
       "    <tr>\n",
       "      <td>748L</td>\n",
       "      <td>1045</td>\n",
       "      <td>50</td>\n",
       "    </tr>\n",
       "    <tr>\n",
       "      <td>94KC</td>\n",
       "      <td>529</td>\n",
       "      <td>35</td>\n",
       "    </tr>\n",
       "    <tr>\n",
       "      <td>E5SW</td>\n",
       "      <td>677</td>\n",
       "      <td>35</td>\n",
       "    </tr>\n",
       "    <tr>\n",
       "      <td>30H5</td>\n",
       "      <td>515</td>\n",
       "      <td>19</td>\n",
       "    </tr>\n",
       "    <tr>\n",
       "      <td>UAOD</td>\n",
       "      <td>547</td>\n",
       "      <td>14</td>\n",
       "    </tr>\n",
       "    <tr>\n",
       "      <td>XX25</td>\n",
       "      <td>472</td>\n",
       "      <td>13</td>\n",
       "    </tr>\n",
       "    <tr>\n",
       "      <td>ZFER</td>\n",
       "      <td>145</td>\n",
       "      <td>13</td>\n",
       "    </tr>\n",
       "    <tr>\n",
       "      <td>O67J</td>\n",
       "      <td>106</td>\n",
       "      <td>6</td>\n",
       "    </tr>\n",
       "    <tr>\n",
       "      <td>1X1H</td>\n",
       "      <td>145</td>\n",
       "      <td>5</td>\n",
       "    </tr>\n",
       "    <tr>\n",
       "      <td>49BM</td>\n",
       "      <td>104</td>\n",
       "      <td>5</td>\n",
       "    </tr>\n",
       "    <tr>\n",
       "      <td>9F9T</td>\n",
       "      <td>44</td>\n",
       "      <td>1</td>\n",
       "    </tr>\n",
       "    <tr>\n",
       "      <td>X23B</td>\n",
       "      <td>15</td>\n",
       "      <td>1</td>\n",
       "    </tr>\n",
       "    <tr>\n",
       "      <td>BOAS</td>\n",
       "      <td>42</td>\n",
       "      <td>0</td>\n",
       "    </tr>\n",
       "  </tbody>\n",
       "</table>\n",
       "</div>"
      ],
      "text/plain": [
       "VIP          Not VIP  VIP\n",
       "branch_code              \n",
       "748L            1045   50\n",
       "94KC             529   35\n",
       "E5SW             677   35\n",
       "30H5             515   19\n",
       "UAOD             547   14\n",
       "XX25             472   13\n",
       "ZFER             145   13\n",
       "O67J             106    6\n",
       "1X1H             145    5\n",
       "49BM             104    5\n",
       "9F9T              44    1\n",
       "X23B              15    1\n",
       "BOAS              42    0"
      ]
     },
     "execution_count": 86,
     "metadata": {},
     "output_type": "execute_result"
    }
   ],
   "source": [
    "pd.crosstab(index=tmp['branch_code'], columns=tmp['VIP'])\\\n",
    "    .sort_values(by='VIP', ascending=False)"
   ]
  },
  {
   "cell_type": "markdown",
   "id": "ff0551ed",
   "metadata": {},
   "source": [
    "# Q5."
   ]
  },
  {
   "cell_type": "code",
   "execution_count": 104,
   "id": "f6f6c0de",
   "metadata": {},
   "outputs": [
    {
     "data": {
      "text/plain": [
       "sex\n",
       "F    40.314175\n",
       "M    39.233391\n",
       "Name: reg_age, dtype: float64"
      ]
     },
     "execution_count": 104,
     "metadata": {},
     "output_type": "execute_result"
    }
   ],
   "source": [
    "basetable1[pd.to_datetime(basetable1['join_date'], format='%d/%m/%Y').dt.month <= 6]\\\n",
    "    .groupby('sex')['reg_age'].mean()"
   ]
  },
  {
   "cell_type": "code",
   "execution_count": 100,
   "id": "0e66f1e3",
   "metadata": {},
   "outputs": [
    {
     "data": {
      "text/plain": [
       "sex\n",
       "F    40.314175\n",
       "M    39.233391\n",
       "Name: reg_age, dtype: float64"
      ]
     },
     "execution_count": 100,
     "metadata": {},
     "output_type": "execute_result"
    }
   ],
   "source": [
    "basetable1[basetable1['join_date'].str.split('/').str[1].astype(int) <= 6]\\\n",
    "    .groupby('sex')['reg_age'].mean()"
   ]
  },
  {
   "cell_type": "code",
   "execution_count": 96,
   "id": "dafcb4c0",
   "metadata": {},
   "outputs": [
    {
     "data": {
      "text/plain": [
       "1.1"
      ]
     },
     "execution_count": 96,
     "metadata": {},
     "output_type": "execute_result"
    }
   ],
   "source": [
    "round(abs(40.314175 - 39.233391), 1)"
   ]
  },
  {
   "cell_type": "code",
   "execution_count": null,
   "id": "887916c5",
   "metadata": {},
   "outputs": [],
   "source": []
  },
  {
   "cell_type": "code",
   "execution_count": null,
   "id": "23c48d1d",
   "metadata": {},
   "outputs": [],
   "source": []
  },
  {
   "cell_type": "code",
   "execution_count": null,
   "id": "0a2cab88",
   "metadata": {},
   "outputs": [],
   "source": []
  },
  {
   "cell_type": "code",
   "execution_count": null,
   "id": "5d1b5d56",
   "metadata": {},
   "outputs": [],
   "source": []
  }
 ],
 "metadata": {
  "kernelspec": {
   "display_name": "Python 3 (ipykernel)",
   "language": "python",
   "name": "python3"
  },
  "language_info": {
   "codemirror_mode": {
    "name": "ipython",
    "version": 3
   },
   "file_extension": ".py",
   "mimetype": "text/x-python",
   "name": "python",
   "nbconvert_exporter": "python",
   "pygments_lexer": "ipython3",
   "version": "3.7.4"
  }
 },
 "nbformat": 4,
 "nbformat_minor": 5
}
