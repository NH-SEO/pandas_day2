{
 "cells": [
  {
   "cell_type": "code",
   "execution_count": 3,
   "id": "6da60daa",
   "metadata": {},
   "outputs": [],
   "source": [
    "import warnings\n",
    "warnings.filterwarnings(action='ignore')\n",
    "\n",
    "import pandas as pd\n",
    "import numpy as np"
   ]
  },
  {
   "cell_type": "code",
   "execution_count": 4,
   "id": "657b374e",
   "metadata": {},
   "outputs": [
    {
     "data": {
      "text/plain": [
       "(1000, 18)"
      ]
     },
     "execution_count": 4,
     "metadata": {},
     "output_type": "execute_result"
    }
   ],
   "source": [
    "df = pd.read_csv('DS_Sample_1.csv')\n",
    "df.shape"
   ]
  },
  {
   "cell_type": "markdown",
   "id": "a15308d0",
   "metadata": {},
   "source": [
    "# 전처리"
   ]
  },
  {
   "cell_type": "code",
   "execution_count": 5,
   "id": "d2955d93",
   "metadata": {},
   "outputs": [
    {
     "data": {
      "text/plain": [
       "CREDIT_LIMIT         0\n",
       "MINIMUM_PAYMENTS    74\n",
       "dtype: int64"
      ]
     },
     "execution_count": 5,
     "metadata": {},
     "output_type": "execute_result"
    }
   ],
   "source": [
    "df[['CREDIT_LIMIT', 'MINIMUM_PAYMENTS']].isna().sum()"
   ]
  },
  {
   "cell_type": "code",
   "execution_count": 8,
   "id": "ee9431e4",
   "metadata": {},
   "outputs": [],
   "source": [
    "df[['CREDIT_LIMIT', 'MINIMUM_PAYMENTS']] =\\\n",
    "    df[['CREDIT_LIMIT', 'MINIMUM_PAYMENTS']].apply(lambda x: x.fillna(value=x.mean()))"
   ]
  },
  {
   "cell_type": "code",
   "execution_count": 9,
   "id": "f5b4d857",
   "metadata": {},
   "outputs": [
    {
     "data": {
      "text/plain": [
       "CREDIT_LIMIT        0\n",
       "MINIMUM_PAYMENTS    0\n",
       "dtype: int64"
      ]
     },
     "execution_count": 9,
     "metadata": {},
     "output_type": "execute_result"
    }
   ],
   "source": [
    "df[['CREDIT_LIMIT', 'MINIMUM_PAYMENTS']].isna().sum()"
   ]
  },
  {
   "cell_type": "code",
   "execution_count": 10,
   "id": "16007fa4",
   "metadata": {},
   "outputs": [],
   "source": [
    "card1 = df.copy()"
   ]
  },
  {
   "cell_type": "markdown",
   "id": "320bdab7",
   "metadata": {},
   "source": [
    "# 1."
   ]
  },
  {
   "cell_type": "code",
   "execution_count": 15,
   "id": "f164fbed",
   "metadata": {},
   "outputs": [
    {
     "data": {
      "text/plain": [
       "0.95"
      ]
     },
     "execution_count": 15,
     "metadata": {},
     "output_type": "execute_result"
    }
   ],
   "source": [
    "card1.groupby('TENURE')[['BALANCE', 'CREDIT_LIMIT']].corr()\\\n",
    "    .iloc[::2, -1].max().round(2)"
   ]
  },
  {
   "cell_type": "markdown",
   "id": "f4746ec4",
   "metadata": {},
   "source": [
    "# 2."
   ]
  },
  {
   "cell_type": "markdown",
   "id": "b0831236",
   "metadata": {},
   "source": [
    "## 2-1."
   ]
  },
  {
   "cell_type": "code",
   "execution_count": 17,
   "id": "4d89c299",
   "metadata": {},
   "outputs": [],
   "source": [
    "df2 = card1.copy()"
   ]
  },
  {
   "cell_type": "code",
   "execution_count": 16,
   "id": "040ec7ef",
   "metadata": {},
   "outputs": [],
   "source": [
    "from sklearn.preprocessing import StandardScaler"
   ]
  },
  {
   "cell_type": "code",
   "execution_count": 19,
   "id": "1b437161",
   "metadata": {},
   "outputs": [
    {
     "data": {
      "text/plain": [
       "17"
      ]
     },
     "execution_count": 19,
     "metadata": {},
     "output_type": "execute_result"
    }
   ],
   "source": [
    "col = ['BALANCE', 'BALANCE_FREQUENCY', 'PURCHASES',\n",
    "       'ONEOFF_PURCHASES', 'INSTALLMENTS_PURCHASES', 'CASH_ADVANCE',\n",
    "       'PURCHASES_FREQUENCY', 'ONEOFF_PURCHASES_FREQUENCY',\n",
    "       'PURCHASES_INSTALLMENTS_FREQUENCY', 'CASH_ADVANCE_FREQUENCY',\n",
    "       'CASH_ADVANCE_TRX', 'PURCHASES_TRX', 'CREDIT_LIMIT', 'PAYMENTS',\n",
    "       'MINIMUM_PAYMENTS', 'PRC_FULL_PAYMENT', 'TENURE']\n",
    "len(col)"
   ]
  },
  {
   "cell_type": "code",
   "execution_count": 21,
   "id": "9bb27780",
   "metadata": {},
   "outputs": [],
   "source": [
    "scaler = StandardScaler().fit(df2[col])"
   ]
  },
  {
   "cell_type": "code",
   "execution_count": 24,
   "id": "56f0874b",
   "metadata": {},
   "outputs": [],
   "source": [
    "df_scaled = pd.DataFrame(scaler.transform(df2[col]), columns=col)"
   ]
  },
  {
   "cell_type": "code",
   "execution_count": 26,
   "id": "0dd0d8a9",
   "metadata": {},
   "outputs": [
    {
     "data": {
      "text/html": [
       "<div>\n",
       "<style scoped>\n",
       "    .dataframe tbody tr th:only-of-type {\n",
       "        vertical-align: middle;\n",
       "    }\n",
       "\n",
       "    .dataframe tbody tr th {\n",
       "        vertical-align: top;\n",
       "    }\n",
       "\n",
       "    .dataframe thead th {\n",
       "        text-align: right;\n",
       "    }\n",
       "</style>\n",
       "<table border=\"1\" class=\"dataframe\">\n",
       "  <thead>\n",
       "    <tr style=\"text-align: right;\">\n",
       "      <th></th>\n",
       "      <th>BALANCE</th>\n",
       "      <th>BALANCE_FREQUENCY</th>\n",
       "      <th>PURCHASES</th>\n",
       "      <th>ONEOFF_PURCHASES</th>\n",
       "      <th>INSTALLMENTS_PURCHASES</th>\n",
       "      <th>CASH_ADVANCE</th>\n",
       "      <th>PURCHASES_FREQUENCY</th>\n",
       "      <th>ONEOFF_PURCHASES_FREQUENCY</th>\n",
       "      <th>PURCHASES_INSTALLMENTS_FREQUENCY</th>\n",
       "      <th>CASH_ADVANCE_FREQUENCY</th>\n",
       "      <th>CASH_ADVANCE_TRX</th>\n",
       "      <th>PURCHASES_TRX</th>\n",
       "      <th>CREDIT_LIMIT</th>\n",
       "      <th>PAYMENTS</th>\n",
       "      <th>MINIMUM_PAYMENTS</th>\n",
       "      <th>PRC_FULL_PAYMENT</th>\n",
       "      <th>TENURE</th>\n",
       "    </tr>\n",
       "  </thead>\n",
       "  <tbody>\n",
       "    <tr>\n",
       "      <td>0</td>\n",
       "      <td>-0.848768</td>\n",
       "      <td>-0.419879</td>\n",
       "      <td>-0.441936</td>\n",
       "      <td>-0.374048</td>\n",
       "      <td>-0.395301</td>\n",
       "      <td>-0.482354</td>\n",
       "      <td>-0.872701</td>\n",
       "      <td>-0.804321</td>\n",
       "      <td>-0.719620</td>\n",
       "      <td>-0.684701</td>\n",
       "      <td>-0.457918</td>\n",
       "      <td>-0.564116</td>\n",
       "      <td>-1.161669</td>\n",
       "      <td>-0.557396</td>\n",
       "      <td>-0.443725</td>\n",
       "      <td>-0.465544</td>\n",
       "      <td>0.282429</td>\n",
       "    </tr>\n",
       "    <tr>\n",
       "      <td>1</td>\n",
       "      <td>0.282791</td>\n",
       "      <td>0.012131</td>\n",
       "      <td>-0.469017</td>\n",
       "      <td>-0.374048</td>\n",
       "      <td>-0.470304</td>\n",
       "      <td>1.878468</td>\n",
       "      <td>-1.282558</td>\n",
       "      <td>-0.804321</td>\n",
       "      <td>-0.924403</td>\n",
       "      <td>0.513493</td>\n",
       "      <td>0.065417</td>\n",
       "      <td>-0.628057</td>\n",
       "      <td>0.150025</td>\n",
       "      <td>0.360574</td>\n",
       "      <td>-0.086159</td>\n",
       "      <td>0.331592</td>\n",
       "      <td>0.282429</td>\n",
       "    </tr>\n",
       "  </tbody>\n",
       "</table>\n",
       "</div>"
      ],
      "text/plain": [
       "    BALANCE  BALANCE_FREQUENCY  PURCHASES  ONEOFF_PURCHASES  \\\n",
       "0 -0.848768          -0.419879  -0.441936         -0.374048   \n",
       "1  0.282791           0.012131  -0.469017         -0.374048   \n",
       "\n",
       "   INSTALLMENTS_PURCHASES  CASH_ADVANCE  PURCHASES_FREQUENCY  \\\n",
       "0               -0.395301     -0.482354            -0.872701   \n",
       "1               -0.470304      1.878468            -1.282558   \n",
       "\n",
       "   ONEOFF_PURCHASES_FREQUENCY  PURCHASES_INSTALLMENTS_FREQUENCY  \\\n",
       "0                   -0.804321                         -0.719620   \n",
       "1                   -0.804321                         -0.924403   \n",
       "\n",
       "   CASH_ADVANCE_FREQUENCY  CASH_ADVANCE_TRX  PURCHASES_TRX  CREDIT_LIMIT  \\\n",
       "0               -0.684701         -0.457918      -0.564116     -1.161669   \n",
       "1                0.513493          0.065417      -0.628057      0.150025   \n",
       "\n",
       "   PAYMENTS  MINIMUM_PAYMENTS  PRC_FULL_PAYMENT    TENURE  \n",
       "0 -0.557396         -0.443725         -0.465544  0.282429  \n",
       "1  0.360574         -0.086159          0.331592  0.282429  "
      ]
     },
     "execution_count": 26,
     "metadata": {},
     "output_type": "execute_result"
    }
   ],
   "source": [
    "df_scaled.head(2)"
   ]
  },
  {
   "cell_type": "markdown",
   "id": "f406f214",
   "metadata": {},
   "source": [
    "## 2-2\n",
    "# model / fit -> predict -> 평가"
   ]
  },
  {
   "cell_type": "code",
   "execution_count": 31,
   "id": "b83cc761",
   "metadata": {},
   "outputs": [],
   "source": [
    "from sklearn.cluster import KMeans\n",
    "from sklearn.metrics import silhouette_score"
   ]
  },
  {
   "cell_type": "code",
   "execution_count": 33,
   "id": "38e23eb7",
   "metadata": {},
   "outputs": [
    {
     "name": "stdout",
     "output_type": "stream",
     "text": [
      "2 0.30752815304560793\n",
      "3 0.19636128772937608\n",
      "4 0.20715098494639902\n",
      "5 0.19274056144483248\n"
     ]
    }
   ],
   "source": [
    "for n in [2, 3, 4, 5]:\n",
    "    model = KMeans(n_clusters=n, random_state=1234).fit(df_scaled[col])\n",
    "    pred = model.predict(df_scaled[col])\n",
    "    print(n, silhouette_score(df_scaled[col], pred))"
   ]
  },
  {
   "cell_type": "markdown",
   "id": "022a8362",
   "metadata": {},
   "source": [
    "## 2-3."
   ]
  },
  {
   "cell_type": "code",
   "execution_count": 34,
   "id": "d86517d7",
   "metadata": {},
   "outputs": [],
   "source": [
    "model = KMeans(n_clusters=2, random_state=1234).fit(df_scaled[col])\n",
    "pred = model.predict(df_scaled[col])"
   ]
  },
  {
   "cell_type": "code",
   "execution_count": 38,
   "id": "521d684c",
   "metadata": {},
   "outputs": [],
   "source": [
    "df2['cluster'] = pred"
   ]
  },
  {
   "cell_type": "code",
   "execution_count": 43,
   "id": "9868a6e7",
   "metadata": {},
   "outputs": [
    {
     "data": {
      "text/plain": [
       "3946.19"
      ]
     },
     "execution_count": 43,
     "metadata": {},
     "output_type": "execute_result"
    }
   ],
   "source": [
    "df2.groupby('cluster')['ONEOFF_PURCHASES'].mean().max().round(2)"
   ]
  },
  {
   "cell_type": "markdown",
   "id": "8cefee4a",
   "metadata": {},
   "source": [
    "# 3."
   ]
  },
  {
   "cell_type": "markdown",
   "id": "4d37a6c8",
   "metadata": {},
   "source": [
    "## 3-1."
   ]
  },
  {
   "cell_type": "code",
   "execution_count": 55,
   "id": "304b62df",
   "metadata": {},
   "outputs": [],
   "source": [
    "train = card1[card1['CUST_ID'] % 4 != 0]\n",
    "test = card1[card1['CUST_ID'] % 4 == 0]"
   ]
  },
  {
   "cell_type": "markdown",
   "id": "9ff4d681",
   "metadata": {},
   "source": [
    "## 3-2."
   ]
  },
  {
   "cell_type": "code",
   "execution_count": 56,
   "id": "7d81bc99",
   "metadata": {},
   "outputs": [
    {
     "data": {
      "text/plain": [
       "Index(['CUST_ID', 'BALANCE', 'BALANCE_FREQUENCY', 'PURCHASES',\n",
       "       'ONEOFF_PURCHASES', 'INSTALLMENTS_PURCHASES', 'CASH_ADVANCE',\n",
       "       'PURCHASES_FREQUENCY', 'ONEOFF_PURCHASES_FREQUENCY',\n",
       "       'PURCHASES_INSTALLMENTS_FREQUENCY', 'CASH_ADVANCE_FREQUENCY',\n",
       "       'CASH_ADVANCE_TRX', 'PURCHASES_TRX', 'CREDIT_LIMIT', 'PAYMENTS',\n",
       "       'MINIMUM_PAYMENTS', 'PRC_FULL_PAYMENT', 'TENURE'],\n",
       "      dtype='object')"
      ]
     },
     "execution_count": 56,
     "metadata": {},
     "output_type": "execute_result"
    }
   ],
   "source": [
    "card1.columns"
   ]
  },
  {
   "cell_type": "code",
   "execution_count": 57,
   "id": "b33913d0",
   "metadata": {},
   "outputs": [
    {
     "data": {
      "text/plain": [
       "16"
      ]
     },
     "execution_count": 57,
     "metadata": {},
     "output_type": "execute_result"
    }
   ],
   "source": [
    "col = ['BALANCE', 'BALANCE_FREQUENCY', 'PURCHASES',\n",
    "       'INSTALLMENTS_PURCHASES', 'CASH_ADVANCE',\n",
    "       'PURCHASES_FREQUENCY', 'ONEOFF_PURCHASES_FREQUENCY',\n",
    "       'PURCHASES_INSTALLMENTS_FREQUENCY', 'CASH_ADVANCE_FREQUENCY',\n",
    "       'CASH_ADVANCE_TRX', 'PURCHASES_TRX', 'CREDIT_LIMIT', 'PAYMENTS',\n",
    "       'MINIMUM_PAYMENTS', 'PRC_FULL_PAYMENT', 'TENURE']\n",
    "len(col)"
   ]
  },
  {
   "cell_type": "code",
   "execution_count": 58,
   "id": "8c9b155e",
   "metadata": {},
   "outputs": [],
   "source": [
    "from sklearn.tree import DecisionTreeRegressor"
   ]
  },
  {
   "cell_type": "code",
   "execution_count": 59,
   "id": "0d835616",
   "metadata": {},
   "outputs": [],
   "source": [
    "model = DecisionTreeRegressor(random_state=1234)\\\n",
    "            .fit(X=train[col], y=train['ONEOFF_PURCHASES'])"
   ]
  },
  {
   "cell_type": "markdown",
   "id": "795efafd",
   "metadata": {},
   "source": [
    "## 3-3."
   ]
  },
  {
   "cell_type": "code",
   "execution_count": 60,
   "id": "28b01b55",
   "metadata": {},
   "outputs": [],
   "source": [
    "pred = model.predict(test[col])"
   ]
  },
  {
   "cell_type": "code",
   "execution_count": 61,
   "id": "34f2ea7b",
   "metadata": {},
   "outputs": [],
   "source": [
    "from sklearn.metrics import mean_squared_error"
   ]
  },
  {
   "cell_type": "code",
   "execution_count": 63,
   "id": "acbf0588",
   "metadata": {},
   "outputs": [
    {
     "data": {
      "text/plain": [
       "2383.8"
      ]
     },
     "execution_count": 63,
     "metadata": {},
     "output_type": "execute_result"
    }
   ],
   "source": [
    "round(mean_squared_error(y_true=test['ONEOFF_PURCHASES'], y_pred=pred) ** 0.5, 1)"
   ]
  },
  {
   "cell_type": "code",
   "execution_count": null,
   "id": "970fc0ed",
   "metadata": {},
   "outputs": [],
   "source": []
  }
 ],
 "metadata": {
  "kernelspec": {
   "display_name": "Python 3 (ipykernel)",
   "language": "python",
   "name": "python3"
  },
  "language_info": {
   "codemirror_mode": {
    "name": "ipython",
    "version": 3
   },
   "file_extension": ".py",
   "mimetype": "text/x-python",
   "name": "python",
   "nbconvert_exporter": "python",
   "pygments_lexer": "ipython3",
   "version": "3.7.4"
  }
 },
 "nbformat": 4,
 "nbformat_minor": 5
}
